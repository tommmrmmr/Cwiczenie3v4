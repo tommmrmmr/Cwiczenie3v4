{
 "cells": [
  {
   "cell_type": "code",
   "execution_count": 2,
   "metadata": {
    "scrolled": true
   },
   "outputs": [],
   "source": [
    "import os, sys\n",
    "PWD = os.path.dirname(os.getcwd())\n",
    "\n",
    "PROJ_MISSING_MSG = \"\"\"Set an enviroment variable:\\n\n",
    "`DJANGO_PROJECT=your_project_name`\\n\n",
    "or call:\\n\n",
    "`init_django(your_project_name)`\n",
    "\"\"\"\n",
    "\n",
    "def init_django(project_name=None):\n",
    "    os.chdir(PWD)\n",
    "    project_name = project_name or os.environ.get(\"DJANGO_PROJECT\") or None\n",
    "    if project_name is None:\n",
    "        raise Exception(PROJ_MISSING_MSG)\n",
    "    sys.path.insert(0, PWD)\n",
    "    os.environ.setdefault(\"DJANGO_SETTINGS_MODULE\", f\"{project_name}.settings\")\n",
    "    os.environ[\"DJANGO_ALLOW_ASYNC_UNSAFE\"] = \"true\"\n",
    "    import django\n",
    "    django.setup()\n",
    "\n",
    "init_django(\"Cwiczenie3v4\")"
   ]
  },
  {
   "cell_type": "code",
   "execution_count": 3,
   "metadata": {},
   "outputs": [
    {
     "name": "stdout",
     "output_type": "stream",
     "text": [
      "John Doe\n",
      "Dave Smith\n",
      "The Last of Us\n",
      "Rating for The Last of Us: 5\n"
     ]
    }
   ],
   "source": [
    "import random\n",
    "\n",
    "from django.contrib.auth import get_user_model\n",
    "from movie.models import Movie, Actor, Director, Rating\n",
    "\n",
    "\n",
    "User = get_user_model()\n",
    "# create necessary objects\n",
    "user_random_number = random.randint(10000, 10000000)\n",
    "user = User.objects.create_user(username=f\"user{user_random_number}\", email=f\"user{user_random_number}@random.email\", password=\"VeryHardPassword123!@#\")\n",
    "\n",
    "actor = Actor.objects.create(\n",
    "    first_name=\"John\",\n",
    "    last_name=\"Doe\",\n",
    ")\n",
    "print(actor)\n",
    "\n",
    "director = Director.objects.create(\n",
    "    first_name=\"Dave\",\n",
    "    last_name=\"Smith\",\n",
    ")\n",
    "print(director)\n",
    "\n",
    "movie = Movie.objects.create(\n",
    "    name=\"The Last of Us\",\n",
    "    slug=\"the-last-of-us\",\n",
    "    description=\"Some description\",\n",
    "    director=director,\n",
    ")\n",
    "movie.actors.set([actor])\n",
    "print(movie)\n",
    "\n",
    "rating = Rating.objects.create(\n",
    "    value=5,\n",
    "    movie=movie,\n",
    "    user=user,\n",
    ")\n",
    "print(rating)"
   ]
  },
  {
   "cell_type": "code",
   "execution_count": 4,
   "metadata": {},
   "outputs": [
    {
     "data": {
      "text/plain": [
       "<Rating: Rating for The Last of Us: 6>"
      ]
     },
     "execution_count": 4,
     "metadata": {},
     "output_type": "execute_result"
    }
   ],
   "source": [
    "# Update\n",
    "rating.value = 6\n",
    "rating.save()\n",
    "rating"
   ]
  },
  {
   "cell_type": "code",
   "execution_count": 5,
   "metadata": {},
   "outputs": [
    {
     "data": {
      "text/plain": [
       "<QuerySet [<Movie: The Last of Us>]>"
      ]
     },
     "execution_count": 5,
     "metadata": {},
     "output_type": "execute_result"
    }
   ],
   "source": [
    "# all()\n",
    "Movie.objects.all()"
   ]
  },
  {
   "cell_type": "code",
   "execution_count": 6,
   "metadata": {},
   "outputs": [
    {
     "data": {
      "text/plain": [
       "<QuerySet [<Movie: The Last of Us>]>"
      ]
     },
     "execution_count": 6,
     "metadata": {},
     "output_type": "execute_result"
    }
   ],
   "source": [
    "# filter()\n",
    "Movie.objects.filter(name__istartswith=\"The Last\")"
   ]
  },
  {
   "cell_type": "code",
   "execution_count": 7,
   "metadata": {},
   "outputs": [
    {
     "data": {
      "text/plain": [
       "<Movie: The Last of Us>"
      ]
     },
     "execution_count": 7,
     "metadata": {},
     "output_type": "execute_result"
    }
   ],
   "source": [
    "# get()\n",
    "Movie.objects.get(pk=movie.pk)"
   ]
  },
  {
   "cell_type": "code",
   "execution_count": 8,
   "metadata": {},
   "outputs": [
    {
     "data": {
      "text/plain": [
       "<QuerySet [<Movie: The Last of Us>]>"
      ]
     },
     "execution_count": 8,
     "metadata": {},
     "output_type": "execute_result"
    }
   ],
   "source": [
    "# order_by()\n",
    "Movie.objects.order_by(\"created_at\").all()\n"
   ]
  }
 ],
 "metadata": {
  "kernelspec": {
   "display_name": "Python 3 (ipykernel)",
   "language": "python",
   "name": "python3"
  },
  "language_info": {
   "codemirror_mode": {
    "name": "ipython",
    "version": 3
   },
   "file_extension": ".py",
   "mimetype": "text/x-python",
   "name": "python",
   "nbconvert_exporter": "python",
   "pygments_lexer": "ipython3",
   "version": "3.11.1"
  }
 },
 "nbformat": 4,
 "nbformat_minor": 1
}
